{
 "cells": [
  {
   "cell_type": "markdown",
   "metadata": {
    "deletable": false,
    "editable": false
   },
   "source": [
    "# Experiment 4\n",
    "\n",
    "__Topics of Experiment 4__<br>\n",
    "\n",
    "$\\bullet$ Using <code>input</code> function in Python.<br>\n",
    "$\\bullet$ Using <code> for</code> loop in Python.<br>\n",
    "$\\bullet$ Using <code> while</code> loop in Python.<br>\n",
    "$\\bullet$ Using <code> if elif else</code> in Python.<br>\n",
    "$\\bullet$ Function and Methods.<br>\n",
    "$\\bullet$ numpy library.<br>"
   ]
  },
  {
   "cell_type": "markdown",
   "metadata": {
    "deletable": false,
    "editable": false
   },
   "source": [
    "### Exe 1 - 15 points\n",
    "\n",
    "Create a function named 'Ex1',  which asks for your name and age useing <code>input()</code>, and then calculates how many years you have until you reach 120. At the end, the program will print the next sentence: \"Your name is <code>Danny</code>, you're <code>27</code> years old and you have <code>93</code> years until you reach 120\".\n",
    "\n",
    "$\\bullet$ (notice that the <code>input()</code> function create type str, so to change to integer use <code>int()</code>)<br>"
   ]
  },
  {
   "cell_type": "code",
   "execution_count": null,
   "metadata": {
    "deletable": false
   },
   "outputs": [],
   "source": [
    "#Exe 1 - answer here!\n",
    "def Ex1():\n",
    "    pass"
   ]
  },
  {
   "cell_type": "code",
   "execution_count": null,
   "metadata": {
    "deletable": false,
    "editable": false
   },
   "outputs": [],
   "source": [
    "Ex1()"
   ]
  },
  {
   "cell_type": "markdown",
   "metadata": {
    "deletable": false,
    "editable": false
   },
   "source": [
    "### Exe 2 - 45 points\n",
    "Create a function named 'VowelsWords', which gets a string as input and return a list that contain only the words which start with vowels (A, E, I, O, U) no matter if they are starting with capital letter or lowercase. (you can use <code>.lower</code> method if nesseceray {for more information you may use <code>help(''.lower)</code>}).\n",
    "\n",
    "example 1: \n",
    "\n",
    "<code>mySrting = \"I'm late for work and my car isn't working, so I need to find someone to take me to work.\"\n",
    "myList = VowelsWords(mySrting)\n",
    "</code>\n",
    "myList → [\"I'm\", 'and', \"isn't\", 'I'].\n",
    "\n",
    "example 2:\n",
    "\n",
    "<code>mySrting = \"It's not right for you to do something bad just because someone else has done something bad.\"\n",
    "myList = VowelsWords(mySrting)\n",
    "</code>\n",
    "myList → [\"It's\", 'else']."
   ]
  },
  {
   "cell_type": "code",
   "execution_count": null,
   "metadata": {
    "deletable": false
   },
   "outputs": [],
   "source": [
    "# answer exe 2 here!\n",
    "def VowelsWords(srting):\n",
    "    pass"
   ]
  },
  {
   "cell_type": "code",
   "execution_count": null,
   "metadata": {
    "deletable": false,
    "editable": false,
    "scrolled": true
   },
   "outputs": [],
   "source": [
    "print(VowelsWords(\"I'm late for work and my car isn't working, so I need to find someone to take me to work.\"))\n",
    "print(VowelsWords(\"It's not right for you to do something bad just because someone else has done something bad.\"))"
   ]
  },
  {
   "cell_type": "markdown",
   "metadata": {
    "deletable": false,
    "editable": false
   },
   "source": [
    "### Exc 3 - 40 points\n",
    "\n",
    "\n",
    "PIG Latin is a speaking code language. It is very simple code language which has two rules:\n",
    "\n",
    "1) if a word start with a 'vowel' (means, with 'a','e','o','i','u'), then add 'ay' to the end of the word.\n",
    "\n",
    "2) if a word doesn't start with a 'vowel', then take the first char in the word, put it in the end and add 'ay' to the end.\n",
    "\n",
    "examples:\n",
    "\n",
    "Ross $\\rightarrow$ ossray\n",
    "\n",
    "old  $\\rightarrow$ olday\n",
    "\n",
    "Create a function named 'PIG_Latin' which will transfer a \"normal\" sentence to a PIG Latin sentence. The input of the function is a sentence and the output is a PIG Latin coded sentence.\n",
    "\n",
    "example: \"The Road is too far from here my lord\" $\\rightarrow$ \"hetay oadray isay ootay arfay romfay erehay ymay ordlay\"."
   ]
  },
  {
   "cell_type": "code",
   "execution_count": null,
   "metadata": {
    "deletable": false
   },
   "outputs": [],
   "source": [
    "# answer exe 3 here!\n",
    "def PIG_Latin(line):\n",
    "    pass"
   ]
  },
  {
   "cell_type": "code",
   "execution_count": null,
   "metadata": {
    "deletable": false,
    "editable": false
   },
   "outputs": [],
   "source": [
    "print(PIG_Latin('the road is too far from here my lord'))"
   ]
  }
 ],
 "metadata": {
  "kernelspec": {
   "display_name": "Python 3",
   "language": "python",
   "name": "python3"
  },
  "language_info": {
   "codemirror_mode": {
    "name": "ipython",
    "version": 3
   },
   "file_extension": ".py",
   "mimetype": "text/x-python",
   "name": "python",
   "nbconvert_exporter": "python",
   "pygments_lexer": "ipython3",
   "version": "3.8.3"
  }
 },
 "nbformat": 4,
 "nbformat_minor": 2
}
