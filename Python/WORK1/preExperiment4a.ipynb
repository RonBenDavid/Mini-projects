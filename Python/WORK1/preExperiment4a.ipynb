{
 "cells": [
  {
   "cell_type": "markdown",
   "metadata": {
    "deletable": false,
    "editable": false
   },
   "source": [
    "# preExperiment 4a - Not for submission\n",
    "\n",
    "__Topics of preExperiment 4a__<br>\n",
    "\n",
    "$\\bullet$ Using <code>input</code> function in Python.<br>\n",
    "$\\bullet$ Using <code> while</code> loop in Python.<br>\n",
    "$\\bullet$ Using <code> if elif else</code> in Python.<br>\n",
    "$\\bullet$ Function and Methods.<br>"
   ]
  },
  {
   "cell_type": "markdown",
   "metadata": {
    "deletable": false,
    "editable": false
   },
   "source": [
    "### Basic for using <code>input</code> function"
   ]
  },
  {
   "cell_type": "code",
   "execution_count": null,
   "metadata": {
    "deletable": false,
    "editable": false
   },
   "outputs": [],
   "source": [
    "#Example for using input function\n",
    "height_str = input('enter your height in centimetre: ')\n",
    "print('height_str = {}[cm]\\n'.format(height_str))\n",
    "\n",
    "print('this is the type of height_str: ', type(height_str))\n",
    "height_int = int(height_str)\n",
    "print('this is the type of height_int: ', type(height_int))"
   ]
  },
  {
   "cell_type": "markdown",
   "metadata": {
    "deletable": false,
    "editable": false
   },
   "source": [
    "### while loop\n",
    "\n",
    "The following examples shows how to use <code>while</code> loop in Python."
   ]
  },
  {
   "cell_type": "code",
   "execution_count": null,
   "metadata": {
    "deletable": false,
    "editable": false
   },
   "outputs": [],
   "source": [
    "#While loop - example 1\n",
    "counter = 0\n",
    "while (counter < 10):\n",
    "    print('counter = ', counter)\n",
    "    counter += 1"
   ]
  },
  {
   "cell_type": "markdown",
   "metadata": {
    "deletable": false,
    "editable": false
   },
   "source": [
    "## Booleans, so lets see \"if statements \"\n",
    "\n",
    "Python  comes with Booleans (with predefined <code>True</code> and <code>False</code> displays that are basically just the integers 1 and 0). It also has a placeholder object called None. Let's walk through a few quick examples of Booleans (we will dive deeper into them later in this course).\n",
    "\n",
    "# if, elif, else Statements\n",
    "\n",
    "<code>if</code> Statements in Python allows us to tell the computer to perform alternative actions based on a certain set of results.\n",
    "\n",
    "Verbally, we can imagine we are telling the computer:\n",
    "\n",
    "\"Hey if this case happens, perform some action\"\n",
    "\n",
    "We can then expand the idea further with <code>elif</code> and <code>else</code> statements, which allow us to tell the computer:\n",
    "\n",
    "\"Hey if this case happens, perform some action. Else, if another case happens, perform some other action. Else, if *none* of the above cases happened, perform this action.\"\n",
    "\n",
    "Let's go ahead and look at the syntax format for <code>if</code> statements to get a better idea of this:\n",
    "\n",
    "    if case1:\n",
    "        perform action1\n",
    "    elif case2:\n",
    "        perform action2\n",
    "    else: \n",
    "        perform action3"
   ]
  },
  {
   "cell_type": "code",
   "execution_count": null,
   "metadata": {
    "deletable": false,
    "editable": false
   },
   "outputs": [],
   "source": [
    "#example 1\n",
    "if True:\n",
    "    print('this is true')"
   ]
  },
  {
   "cell_type": "code",
   "execution_count": null,
   "metadata": {
    "deletable": false,
    "editable": false
   },
   "outputs": [],
   "source": [
    "#example 2\n",
    "if False:\n",
    "    print('this is true')"
   ]
  },
  {
   "cell_type": "code",
   "execution_count": null,
   "metadata": {
    "deletable": false,
    "editable": false
   },
   "outputs": [],
   "source": [
    "#example 3\n",
    "if True:\n",
    "    print('this is true')\n",
    "else:\n",
    "    print('This is else')"
   ]
  },
  {
   "cell_type": "code",
   "execution_count": null,
   "metadata": {
    "deletable": false,
    "editable": false
   },
   "outputs": [],
   "source": [
    "#example 4\n",
    "boolean = False\n",
    "if boolean:\n",
    "    print('this is true')\n",
    "else:\n",
    "    print('This is False')"
   ]
  },
  {
   "cell_type": "code",
   "execution_count": null,
   "metadata": {
    "deletable": false,
    "editable": false
   },
   "outputs": [],
   "source": [
    "#example 5\n",
    "a = 0\n",
    "if a > 0:\n",
    "    print('a is positive')\n",
    "elif a < 0:\n",
    "    print('a is negative')\n",
    "else:\n",
    "    print('This is zero')"
   ]
  },
  {
   "cell_type": "markdown",
   "metadata": {
    "deletable": false,
    "editable": false
   },
   "source": [
    "### <code>while</code> loop and <code> break </code> in Python\n",
    "\n",
    "__take a look now on the__ <code>break</code> word, which break out of a functions, for loops, while loops and if else statments."
   ]
  },
  {
   "cell_type": "code",
   "execution_count": null,
   "metadata": {
    "deletable": false,
    "editable": false
   },
   "outputs": [],
   "source": [
    "#while loop - example 2\n",
    "while (True):\n",
    "    user_command = input('if you want to stop the loop enter \"quit\": ')\n",
    "    if user_command == 'quit':\n",
    "        break\n",
    "    else:\n",
    "        print('You typed: ', user_command)"
   ]
  },
  {
   "cell_type": "markdown",
   "metadata": {
    "deletable": false,
    "editable": false
   },
   "source": [
    "### Function and Methods"
   ]
  },
  {
   "cell_type": "markdown",
   "metadata": {
    "deletable": false,
    "editable": false
   },
   "source": [
    "#### def Statements\n",
    "\n",
    "Let's see how to build out a function's syntax in Python. It has the following form:"
   ]
  },
  {
   "cell_type": "code",
   "execution_count": null,
   "metadata": {
    "deletable": false,
    "editable": false
   },
   "outputs": [],
   "source": [
    "def name_of_function(arg1,arg2):\n",
    "    '''\n",
    "    This is where the function's Document String (DOCSTRING) goes\n",
    "    '''\n",
    "    # Do stuff here\n",
    "    # Return desired result"
   ]
  },
  {
   "cell_type": "markdown",
   "metadata": {
    "deletable": false,
    "editable": false
   },
   "source": [
    "__Explain for <code>def</code> statements__<br>\n",
    "We begin with <code>def</code> then a space followed by the name of the function. \n",
    "\n",
    "Next come a pair of parentheses with a number of arguments separated by a comma. These arguments are the inputs for your function. You'll be able to use these inputs in your function and reference them. After this you put a colon.\n",
    "\n",
    "Now here is the important step, you must indent to begin the code inside your function correctly. Python makes use of *whitespace* to organize code. Lots of other programing languages do not do this, so keep that in mind.\n",
    "\n",
    "Next you'll see the docstring, this is where you write a basic description of the function. Using iPython and iPython Notebooks, you'll be able to read these docstrings by pressing Shift+Tab after a function name. Docstrings are not necessary for simple functions, but it's good practice to put them in so you or other people can easily understand the code you write.\n",
    "\n",
    "After all this you begin writing the code you wish to execute.\n",
    "\n",
    "The best way to learn functions is by going through examples. So let's try to go through examples that relate back to the various objects and data structures we learned about before."
   ]
  },
  {
   "cell_type": "markdown",
   "metadata": {
    "deletable": false,
    "editable": false
   },
   "source": [
    "#### Example 1"
   ]
  },
  {
   "cell_type": "code",
   "execution_count": null,
   "metadata": {
    "deletable": false,
    "editable": false
   },
   "outputs": [],
   "source": [
    "#example 1\n",
    "def helllllooo():\n",
    "    print('Hello')"
   ]
  },
  {
   "cell_type": "code",
   "execution_count": null,
   "metadata": {
    "deletable": false,
    "editable": false
   },
   "outputs": [],
   "source": [
    "#run the code\n",
    "helllllooo()"
   ]
  },
  {
   "cell_type": "markdown",
   "metadata": {
    "deletable": false,
    "editable": false
   },
   "source": [
    "#### Example 2"
   ]
  },
  {
   "cell_type": "code",
   "execution_count": null,
   "metadata": {
    "deletable": false,
    "editable": false
   },
   "outputs": [],
   "source": [
    "#example 2\n",
    "def multi_add(num1, num2, num3):\n",
    "    return num1 * num2 + num3"
   ]
  },
  {
   "cell_type": "code",
   "execution_count": null,
   "metadata": {
    "deletable": false,
    "editable": false
   },
   "outputs": [],
   "source": [
    "first = int(input('Enter the first number:   '))\n",
    "second = int(input('Enter the second number:  '))\n",
    "third = int(input('Enter the third number:   '))\n",
    "result = multi_add(first, second, third)\n",
    "print('the result is {}'.format(result))"
   ]
  },
  {
   "cell_type": "markdown",
   "metadata": {
    "deletable": false,
    "editable": false
   },
   "source": [
    "### Example 3"
   ]
  },
  {
   "cell_type": "code",
   "execution_count": null,
   "metadata": {
    "deletable": false,
    "editable": false
   },
   "outputs": [],
   "source": [
    "#example 3\n",
    "def binarylist(mylist):\n",
    "    i = 0\n",
    "    \n",
    "    while (i < len(mylist)):\n",
    "        if(mylist[i] > 0):\n",
    "            mylist[i] = True\n",
    "        else:\n",
    "            mylist[i] = False\n",
    "        i += 1\n",
    "        \n",
    "    return mylist"
   ]
  },
  {
   "cell_type": "code",
   "execution_count": null,
   "metadata": {
    "deletable": false,
    "editable": false
   },
   "outputs": [],
   "source": [
    "first = int(input('enter a number: '))\n",
    "second = int(input('enter a number: '))\n",
    "third = int(input('enter a number: '))\n",
    "mylist = [first, second, third]\n",
    "mylist = binarylist(mylist)\n",
    "print(mylist)"
   ]
  },
  {
   "cell_type": "markdown",
   "metadata": {
    "deletable": false,
    "editable": false
   },
   "source": [
    "# Methods\n",
    "\n",
    "We've already seen a few example of methods when learning about Object and Data Structure Types in Python. Methods are essentially functions built into objects. Later on in the course we will learn about how to create our own objects and methods using Object Oriented Programming (OOP) and classes.\n",
    "\n",
    "Methods perform specific actions on an object and can also take arguments, just like a function. This lecture will serve as just a brief introduction to methods and get you thinking about overall design methods that we will touch back upon when we reach OOP in the course.\n",
    "\n",
    "Methods are in the form:\n",
    "\n",
    "    object.method(arg1,arg2,etc...)\n",
    "    \n",
    "You'll later see that we can think of methods as having an argument 'self' referring to the object itself. You can't see this argument but we will be using it later on in the course during the OOP lectures.\n",
    "\n",
    "Let's take a quick look at what an example of the various methods a list has:"
   ]
  },
  {
   "cell_type": "markdown",
   "metadata": {
    "deletable": false,
    "editable": false
   },
   "source": [
    "Fortunately, with iPython and the Jupyter Notebook we can quickly see all the possible methods using the tab key. The methods for a list are:\n",
    "\n",
    "* append\n",
    "* count\n",
    "* extend\n",
    "* insert\n",
    "* pop\n",
    "* remove\n",
    "* reverse\n",
    "* sort\n",
    "\n",
    "Let's try out a few of them:"
   ]
  },
  {
   "cell_type": "markdown",
   "metadata": {
    "deletable": false,
    "editable": false
   },
   "source": [
    "<code>append()</code> allows us to add elements to the end of a list:"
   ]
  },
  {
   "cell_type": "code",
   "execution_count": null,
   "metadata": {
    "deletable": false,
    "editable": false
   },
   "outputs": [],
   "source": [
    "#example 1 for methods\n",
    "List = [1, 2, 3, 4, 5]\n",
    "print('The list is:   ', List)\n",
    "\n",
    "List.append(6) # adding 6 to the end of the list\n",
    "print('The new list is {} after using the {} method'.format(List,'\"append\"'))\n"
   ]
  },
  {
   "cell_type": "code",
   "execution_count": null,
   "metadata": {
    "deletable": false,
    "editable": false
   },
   "outputs": [],
   "source": [
    "# Check how many times 2 shows up in the list\n",
    "print('The number \"2\" appears in the list {} time'.format(List.count(2)))"
   ]
  },
  {
   "cell_type": "markdown",
   "metadata": {
    "deletable": false,
    "editable": false
   },
   "source": [
    "## Help in Python\n",
    "\n",
    "There are several ways to search for help in Python:\n",
    "\n",
    "1) Google\n",
    "\n",
    "2) stackoverflow forum\n",
    "\n",
    "3) python.org documents\n",
    "\n",
    "4) shift + tab in jupther notebook\n",
    "\n",
    "5) help('function name')\n",
    "\n",
    "We are going to see an example for the fifth note."
   ]
  },
  {
   "cell_type": "code",
   "execution_count": null,
   "metadata": {
    "deletable": false,
    "editable": false
   },
   "outputs": [],
   "source": [
    "def multi_add(num1, num2, num3):\n",
    "    return num1 * num2 + num3"
   ]
  },
  {
   "cell_type": "code",
   "execution_count": null,
   "metadata": {
    "deletable": false,
    "editable": false
   },
   "outputs": [],
   "source": [
    "#run this line\n",
    "help(multi_add)"
   ]
  },
  {
   "cell_type": "markdown",
   "metadata": {
    "deletable": false,
    "editable": false
   },
   "source": [
    "You may see that the print didn't gave you any information about the function 'multi_add'. The reason is becuase it's a function we created. To get information about the function we need to write in 'DOCSTRING' some several lines which will clearify the function.\n",
    "\n",
    "take a look on the next cell (I added DOCSTRING)"
   ]
  },
  {
   "cell_type": "code",
   "execution_count": null,
   "metadata": {
    "deletable": false,
    "editable": false
   },
   "outputs": [],
   "source": [
    "def multi_add(num1, num2, num3):\n",
    "    '''The function 'multi_add' have 3 inputs and one output\n",
    "       INPUT: num1, num2, num3 - are integers.\n",
    "       OUTPUT:integer which is the multimple of (num1,num2) plus num3'''\n",
    "    return num1 * num2 + num3"
   ]
  },
  {
   "cell_type": "markdown",
   "metadata": {
    "deletable": false,
    "editable": false
   },
   "source": [
    "Now after adding DOCSTRING, we will run the 'help' and we can see that our DOXSTRING is filled inside the 'help'."
   ]
  },
  {
   "cell_type": "code",
   "execution_count": null,
   "metadata": {
    "deletable": false,
    "editable": false
   },
   "outputs": [],
   "source": [
    "#run this line\n",
    "help(multi_add)"
   ]
  }
 ],
 "metadata": {
  "kernelspec": {
   "display_name": "Python 3",
   "language": "python",
   "name": "python3"
  },
  "language_info": {
   "codemirror_mode": {
    "name": "ipython",
    "version": 3
   },
   "file_extension": ".py",
   "mimetype": "text/x-python",
   "name": "python",
   "nbconvert_exporter": "python",
   "pygments_lexer": "ipython3",
   "version": "3.5.5"
  }
 },
 "nbformat": 4,
 "nbformat_minor": 2
}
