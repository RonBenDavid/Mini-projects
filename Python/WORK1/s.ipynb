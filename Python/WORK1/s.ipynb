{
 "cells": [
  {
   "cell_type": "markdown",
   "metadata": {
    "deletable": false,
    "editable": false
   },
   "source": [
    "# preExperiment 4b - for submission!"
   ]
  },
  {
   "cell_type": "markdown",
   "metadata": {
    "deletable": false,
    "editable": false
   },
   "source": [
    "## Numbers (int, float) - math operations\n",
    "\n",
    "The function <code>print()</code>, will print output the values it receives."
   ]
  },
  {
   "cell_type": "markdown",
   "metadata": {},
   "source": [
    "# Name : Ron Ben David\n",
    "# ID: \n"
   ]
  },
  {
   "cell_type": "markdown",
   "metadata": {
    "deletable": false,
    "editable": false
   },
   "source": [
    "### question 1\n",
    "\n",
    "Open new code cell below this one and print the results of next expressions (each expression in his on line):\n",
    "\n",
    "    1) 1+2\n",
    "\n",
    "    2) 5*10\n",
    "\n",
    "    3) 5*10+7\n",
    "\n",
    "    4) 5*(10+7)\n",
    "\n",
    "    5) 10**2\n",
    "\n",
    "    6) 9**0.5\n",
    "\n",
    "    7) 77%2\n",
    "\n",
    "    8) 18//5"
   ]
  },
  {
   "cell_type": "code",
   "execution_count": 1,
   "metadata": {},
   "outputs": [
    {
     "name": "stdout",
     "output_type": "stream",
     "text": [
      "3\n"
     ]
    }
   ],
   "source": [
    "#1\n",
    "print(1+2)"
   ]
  },
  {
   "cell_type": "code",
   "execution_count": 2,
   "metadata": {},
   "outputs": [
    {
     "name": "stdout",
     "output_type": "stream",
     "text": [
      "50\n"
     ]
    }
   ],
   "source": [
    "#2\n",
    "print(5*10)"
   ]
  },
  {
   "cell_type": "code",
   "execution_count": 3,
   "metadata": {},
   "outputs": [
    {
     "name": "stdout",
     "output_type": "stream",
     "text": [
      "57\n"
     ]
    }
   ],
   "source": [
    "#3\n",
    "print(5*10+7)"
   ]
  },
  {
   "cell_type": "code",
   "execution_count": 4,
   "metadata": {},
   "outputs": [
    {
     "name": "stdout",
     "output_type": "stream",
     "text": [
      "85\n"
     ]
    }
   ],
   "source": [
    "#4\n",
    "print(5*(10+7))"
   ]
  },
  {
   "cell_type": "code",
   "execution_count": 5,
   "metadata": {},
   "outputs": [
    {
     "name": "stdout",
     "output_type": "stream",
     "text": [
      "100\n"
     ]
    }
   ],
   "source": [
    "#5\n",
    "print(10**2)"
   ]
  },
  {
   "cell_type": "code",
   "execution_count": 6,
   "metadata": {},
   "outputs": [
    {
     "name": "stdout",
     "output_type": "stream",
     "text": [
      "3\n"
     ]
    }
   ],
   "source": [
    "#5\n",
    "print(int(9**0.5))"
   ]
  },
  {
   "cell_type": "code",
   "execution_count": 7,
   "metadata": {},
   "outputs": [
    {
     "name": "stdout",
     "output_type": "stream",
     "text": [
      "1\n"
     ]
    }
   ],
   "source": [
    "#7\n",
    "print(77%2)"
   ]
  },
  {
   "cell_type": "code",
   "execution_count": 8,
   "metadata": {},
   "outputs": [
    {
     "name": "stdout",
     "output_type": "stream",
     "text": [
      "3\n"
     ]
    }
   ],
   "source": [
    "#8\n",
    "print(18//5)"
   ]
  },
  {
   "cell_type": "markdown",
   "metadata": {
    "deletable": false,
    "editable": false
   },
   "source": [
    "### question 2\n",
    "Open new code cell below this one and use at least 4 mathematecal opretors on any numerical valus you prefer to get 100.25 as a rasult and print it."
   ]
  },
  {
   "cell_type": "code",
   "execution_count": 9,
   "metadata": {},
   "outputs": [
    {
     "name": "stdout",
     "output_type": "stream",
     "text": [
      "100.25\n"
     ]
    }
   ],
   "source": [
    "#question 2 Answer\n",
    "print(0.5**2+10*100//10)#(1.**,2.+,3.*,4.//)"
   ]
  },
  {
   "cell_type": "markdown",
   "metadata": {
    "deletable": false,
    "editable": false
   },
   "source": [
    "## More about numbers\n",
    "We can assign numbers into variables. For example:\n",
    "\n",
    "<code>a = 5</code>\n",
    "\n",
    "The names you use when creating these labels need to follow a few rules:\n",
    "\n",
    "    1. Names can not start with a number.\n",
    "    2. There can be no spaces in the name, use _ instead.\n",
    "    3. Can't use any of these symbols :'\",<>/?|\\()!@#$%^&*~-+\n",
    "    4. It's considered best practice (PEP8) that names are lowercase.\n",
    "    5. Avoid using the characters 'l' (lowercase letter el), 'O' (uppercase letter oh), \n",
    "       or 'I' (uppercase letter eye) as single character variable names.\n",
    "    6. Avoid using words that have special meaning in Python like \"list\" and \"str\""
   ]
  },
  {
   "cell_type": "markdown",
   "metadata": {
    "deletable": false,
    "editable": false
   },
   "source": [
    "### question 3\n",
    "\n",
    "Use object names to keep better track of what's going on in your code!\n",
    "\n",
    "Open new code cell below this one and assign to variables the numerical valus you use in question 2, and use them to get 100.25 and print is.\n",
    "\n",
    "For example: \n",
    "   \n",
    "instead:\n",
    "\n",
    "<code>print(4\\*5+3)</code>\n",
    "\n",
    "write:\n",
    "\n",
    "<code>a = 4</code>\n",
    "\n",
    "<code>b = 5</code>\n",
    "\n",
    "<code>c = 3</code>\n",
    "\n",
    "<code>d = a*b+c</code>\n",
    "\n",
    "<code>print(d)</code>\n",
    "\n"
   ]
  },
  {
   "cell_type": "code",
   "execution_count": 10,
   "metadata": {},
   "outputs": [
    {
     "name": "stdout",
     "output_type": "stream",
     "text": [
      "100.25\n"
     ]
    }
   ],
   "source": [
    "#question 3 Answer\n",
    "a=0.5\n",
    "b=2\n",
    "c=10\n",
    "d=100\n",
    "print(a**b+c*d//c)"
   ]
  },
  {
   "cell_type": "markdown",
   "metadata": {
    "deletable": false,
    "editable": false
   },
   "source": [
    "### question 4\n",
    "In Python a decimal number is called a floating point (3.14) and a whole number is called integer.\n",
    "assign to 'a' an integer and to 'b' a floating point. Then write <code>print(type(a))</code>, <code>print(type(b))</code>. what did you get?\n",
    "\n",
    "   "
   ]
  },
  {
   "cell_type": "code",
   "execution_count": 11,
   "metadata": {
    "deletable": false
   },
   "outputs": [
    {
     "name": "stdout",
     "output_type": "stream",
     "text": [
      "<class 'int'>\n",
      "<class 'float'>\n"
     ]
    }
   ],
   "source": [
    "#question 4 Answer\n",
    "a=1\n",
    "b=0.56\n",
    "print(type(a))\n",
    "print(type(b))"
   ]
  },
  {
   "cell_type": "markdown",
   "metadata": {},
   "source": [
    "# Answer :\n",
    "# <class 'int'>\n",
    "# <class 'float'>"
   ]
  },
  {
   "cell_type": "markdown",
   "metadata": {
    "deletable": false,
    "editable": false
   },
   "source": [
    "### question 5\n",
    "assign to 'c' the number 3.2568782321. Use the function <code>round()</code> and explain what the function did to the variable c. store the answer in the variable 'd'.\n",
    "\n",
    "Print the type of the new variable 'd'.\n",
    "\n",
    "for explain what <code>round()</code> did open new markdown cell below this one and write your explanation.\n"
   ]
  },
  {
   "cell_type": "code",
   "execution_count": 12,
   "metadata": {
    "deletable": false
   },
   "outputs": [
    {
     "name": "stdout",
     "output_type": "stream",
     "text": [
      "<class 'int'>\n"
     ]
    }
   ],
   "source": [
    "#question 5 Answer\n",
    "c=3.2568782321\n",
    "d=round(c)\n",
    "print(type(d))\n",
    "#round function change flouting number to the nearest decimal number"
   ]
  },
  {
   "cell_type": "markdown",
   "metadata": {
    "deletable": false,
    "editable": false
   },
   "source": [
    "## Strings\n",
    "\n",
    "Strings are used in Python to record text information, such as names. Strings in Python are actually a sequence, which basically means Python keeps track of every element in the string as a sequence. For example, Python understands the string \"hello\" to be a sequence of letters in a specific order. This means we will be able to use indexing to grab particular letters (like the first letter, or the last letter).\n",
    "\n",
    "This idea of a sequence is an important one in Python and we will touch upon it later on in the future.\n",
    "\n",
    "In this section we'll learn about the following:\n",
    "\n",
    "1.) Creating Strings\n",
    "\n",
    "2.) Printing Strings\n",
    "\n",
    "3.) String Indexing and Slicing\n",
    "\n",
    "4.) String Properties\n",
    "\n",
    "5.) String Methods\n",
    "\n",
    "6.) Print Formatting\n",
    "\n",
    "For example:\n",
    "\n",
    "    'Hello World'\n",
    "    '200.5'\n",
    "    \"Hellloooo Wooorld!\"\n",
    "    ' ' \n",
    "    ''\n",
    "    'Py7h0n-3.6.5'   \n"
   ]
  },
  {
   "cell_type": "markdown",
   "metadata": {
    "deletable": false,
    "editable": false
   },
   "source": [
    "### question 6\n",
    "Assign to a the word 'hello'\n",
    "\n",
    "   Type the next lines( each line in a new cell!!!!)\n",
    "    \n",
    "    a[0]\n",
    "    \n",
    "    a[1]\n",
    "    \n",
    "    a[2]\n",
    "    \n",
    "    a[3]\n",
    "    \n",
    "    a[4]\n",
    "    \n",
    "    a[5] --> Explain what happen in a text cell after the error!!\n",
    "    \n",
    "    a[-1] --> explain what happen."
   ]
  },
  {
   "cell_type": "code",
   "execution_count": 13,
   "metadata": {},
   "outputs": [],
   "source": [
    "#question 6 Answer\n",
    "a='hello'"
   ]
  },
  {
   "cell_type": "code",
   "execution_count": 14,
   "metadata": {},
   "outputs": [
    {
     "data": {
      "text/plain": [
       "'h'"
      ]
     },
     "execution_count": 14,
     "metadata": {},
     "output_type": "execute_result"
    }
   ],
   "source": [
    "a[0]"
   ]
  },
  {
   "cell_type": "code",
   "execution_count": 15,
   "metadata": {},
   "outputs": [
    {
     "data": {
      "text/plain": [
       "'e'"
      ]
     },
     "execution_count": 15,
     "metadata": {},
     "output_type": "execute_result"
    }
   ],
   "source": [
    "a[1]"
   ]
  },
  {
   "cell_type": "code",
   "execution_count": 16,
   "metadata": {},
   "outputs": [
    {
     "data": {
      "text/plain": [
       "'l'"
      ]
     },
     "execution_count": 16,
     "metadata": {},
     "output_type": "execute_result"
    }
   ],
   "source": [
    "a[2]"
   ]
  },
  {
   "cell_type": "code",
   "execution_count": 17,
   "metadata": {},
   "outputs": [
    {
     "data": {
      "text/plain": [
       "'l'"
      ]
     },
     "execution_count": 17,
     "metadata": {},
     "output_type": "execute_result"
    }
   ],
   "source": [
    "a[3]"
   ]
  },
  {
   "cell_type": "code",
   "execution_count": 18,
   "metadata": {},
   "outputs": [
    {
     "data": {
      "text/plain": [
       "'o'"
      ]
     },
     "execution_count": 18,
     "metadata": {},
     "output_type": "execute_result"
    }
   ],
   "source": [
    "a[4]"
   ]
  },
  {
   "cell_type": "code",
   "execution_count": 19,
   "metadata": {},
   "outputs": [
    {
     "ename": "IndexError",
     "evalue": "string index out of range",
     "output_type": "error",
     "traceback": [
      "\u001b[1;31m---------------------------------------------------------------------------\u001b[0m",
      "\u001b[1;31mIndexError\u001b[0m                                Traceback (most recent call last)",
      "\u001b[1;32m<ipython-input-19-09f871461f7e>\u001b[0m in \u001b[0;36m<module>\u001b[1;34m\u001b[0m\n\u001b[1;32m----> 1\u001b[1;33m \u001b[0ma\u001b[0m\u001b[1;33m[\u001b[0m\u001b[1;36m5\u001b[0m\u001b[1;33m]\u001b[0m\u001b[1;33m\u001b[0m\u001b[1;33m\u001b[0m\u001b[0m\n\u001b[0m\u001b[0;32m      2\u001b[0m \u001b[1;31m#string array start with zero and end with 4 because we have 5 letter's so the string is out of range\u001b[0m\u001b[1;33m\u001b[0m\u001b[1;33m\u001b[0m\u001b[1;33m\u001b[0m\u001b[0m\n",
      "\u001b[1;31mIndexError\u001b[0m: string index out of range"
     ]
    }
   ],
   "source": [
    "a[5]\n",
    "#string array start with zero and end with 4 because we have 5 letter's so the string is out of range"
   ]
  },
  {
   "cell_type": "code",
   "execution_count": 20,
   "metadata": {},
   "outputs": [
    {
     "data": {
      "text/plain": [
       "'o'"
      ]
     },
     "execution_count": 20,
     "metadata": {},
     "output_type": "execute_result"
    }
   ],
   "source": [
    "a[-1]\n",
    "#in python array's are rounded so negtive numbers presents end to start"
   ]
  },
  {
   "cell_type": "markdown",
   "metadata": {
    "deletable": false,
    "editable": false
   },
   "source": [
    "### question 7\n",
    "Now, after figuring how to call each letter, lets see if caught it.\n",
    "\n",
    "Enter the word 'mississippi' to new variable and print in all ways you know the letters 's'."
   ]
  },
  {
   "cell_type": "code",
   "execution_count": 21,
   "metadata": {
    "deletable": false
   },
   "outputs": [
    {
     "name": "stdout",
     "output_type": "stream",
     "text": [
      "ssss\n"
     ]
    }
   ],
   "source": [
    "#question 7 Answer\n",
    "text_temp='mississippi'\n",
    "b=text_temp.count('s')\n",
    "print(b*'s')"
   ]
  },
  {
   "cell_type": "markdown",
   "metadata": {
    "deletable": false,
    "editable": false
   },
   "source": [
    "As we show in the examples we can create a String by using '' or by using \"\".\n",
    "\n",
    "Lets try to understand if there is a difference and why:\n",
    "\n",
    "### question 8.1   \n",
    "assign to <code>a</code> the sring <code>it is a beatiful day</code> using <code>\"\"</code>. print <code>a</code>."
   ]
  },
  {
   "cell_type": "code",
   "execution_count": 22,
   "metadata": {
    "deletable": false
   },
   "outputs": [
    {
     "name": "stdout",
     "output_type": "stream",
     "text": [
      "it is a beatiful day\n"
     ]
    }
   ],
   "source": [
    "#question 8.1 Answer\n",
    "a=\"it is a beatiful day\"\n",
    "print(a)"
   ]
  },
  {
   "cell_type": "markdown",
   "metadata": {
    "deletable": false,
    "editable": false
   },
   "source": [
    "### question 8.2\n",
    "\n",
    "assign to <code>b</code> the sring <code>it's a beatiful day</code> using <code>\"\"</code>. print <code>b</code>.\n",
    "\n",
    "If you are getting an error explain in new markdown cell why."
   ]
  },
  {
   "cell_type": "code",
   "execution_count": 23,
   "metadata": {
    "deletable": false
   },
   "outputs": [
    {
     "name": "stdout",
     "output_type": "stream",
     "text": [
      "it's a beatiful day\n"
     ]
    }
   ],
   "source": [
    "#question 8.2 Answer\n",
    "b=\"it's a beatiful day\"\n",
    "print(b)"
   ]
  },
  {
   "cell_type": "markdown",
   "metadata": {
    "deletable": false,
    "editable": false
   },
   "source": [
    "### question 8.3\n",
    "\n",
    "assign to <code>c</code> the sring <code>it's a beatiful day</code> using <code>''</code>. print <code>c</code>.\n",
    "\n",
    "If you are getting an error explain in new markdown cell why."
   ]
  },
  {
   "cell_type": "code",
   "execution_count": 24,
   "metadata": {
    "deletable": false
   },
   "outputs": [
    {
     "ename": "SyntaxError",
     "evalue": "invalid syntax (<ipython-input-24-02e17be552ac>, line 2)",
     "output_type": "error",
     "traceback": [
      "\u001b[1;36m  File \u001b[1;32m\"<ipython-input-24-02e17be552ac>\"\u001b[1;36m, line \u001b[1;32m2\u001b[0m\n\u001b[1;33m    c='it's a beatiful day'\u001b[0m\n\u001b[1;37m          ^\u001b[0m\n\u001b[1;31mSyntaxError\u001b[0m\u001b[1;31m:\u001b[0m invalid syntax\n"
     ]
    }
   ],
   "source": [
    "#question 8.3 Answer\n",
    "c='it's a beatiful day'\n",
    "print(c)"
   ]
  },
  {
   "cell_type": "markdown",
   "metadata": {},
   "source": [
    "## *Answer:\n",
    "## becuse we used single quotes and we have single quote in the words \"it's\" so all the rest letters' after the word \"it\"\n",
    "## dont get in the variable so we get invaild syntax ERROR"
   ]
  },
  {
   "cell_type": "markdown",
   "metadata": {
    "deletable": false,
    "editable": false
   },
   "source": [
    "### String Formatting\n",
    "\n",
    "String formatting lets you inject items into a string rather than trying to chain items together using commas or string concatenation.\n",
    "\n",
    "As a quick comparison, consider:\n",
    "\n",
    "<code>Student = 'Yaron'\n",
    "exam = 87\n",
    "concatenation = 'Yesterday, ' + student + ' scored ' + str(points) + ' in the exam.'  # concatenation\n",
    "formatting = f'Yesterday, {student} scored {points} in the exam.'          # string formatting\n",
    "</code>\n",
    "\n",
    "There are three ways to perform string formatting.\n",
    "* The oldest method involves placeholders using the modulo `%` character.\n",
    "* An improved technique uses the `.format()` string method.\n",
    "* The newest method, introduced with Python 3.6, uses formatted string literals, called *f-strings*.\n",
    "\n",
    "In this course will focus on the plceholders formating, but you are more than welcome to read about the others on the internet."
   ]
  },
  {
   "cell_type": "markdown",
   "metadata": {
    "deletable": false,
    "editable": false
   },
   "source": [
    "## Formatting with placeholders\n",
    "the modulo operator"
   ]
  },
  {
   "cell_type": "code",
   "execution_count": null,
   "metadata": {
    "deletable": false,
    "editable": false
   },
   "outputs": [],
   "source": [
    "#example\n",
    "print('Jhonny, la genta esta %s' %'loca')"
   ]
  },
  {
   "cell_type": "markdown",
   "metadata": {
    "deletable": false,
    "editable": false
   },
   "source": [
    "### question 9.1\n",
    "print a sentence which tells how old are you.\n",
    "'i am ? years old'"
   ]
  },
  {
   "cell_type": "code",
   "execution_count": null,
   "metadata": {
    "deletable": false
   },
   "outputs": [],
   "source": [
    "#question 9.1 Answer\n",
    "print('i am %d years old'%28)"
   ]
  },
  {
   "cell_type": "markdown",
   "metadata": {
    "deletable": false,
    "editable": false
   },
   "source": [
    "### question 9.2\n",
    "\n",
    "Now store to a variable named 'age' your age in type of int.\n",
    "    for example: age = 16 $\\rightarrow$ type(age) is integer.\n",
    "\n",
    "try to print how old are you, and use the modulo operator and the age variable."
   ]
  },
  {
   "cell_type": "code",
   "execution_count": null,
   "metadata": {
    "deletable": false
   },
   "outputs": [],
   "source": [
    "#question 9.2 Answer\n",
    "age=28\n",
    "print('i am %d years old'%age)"
   ]
  },
  {
   "cell_type": "markdown",
   "metadata": {
    "deletable": false,
    "editable": false
   },
   "source": [
    "# conclusion for modulo operator\n",
    "it takes a variable (str, int, float) and print it as a string.\n",
    "### question 9.3\n",
    "for last example about it, print the next lines and see if you understood everything.\n",
    "\n",
    "<code>No2 = 2\n",
    "topic = \" we'll discuss on list, tuples ,sets and if statements\"\n",
    "print('Today this lecture number %s %s'%(No2,topic))\n",
    "print(type(No2))\n",
    "print(type(topic))</code>"
   ]
  },
  {
   "cell_type": "code",
   "execution_count": null,
   "metadata": {
    "deletable": false
   },
   "outputs": [],
   "source": [
    "#question 9.3 Answer\n",
    "No2 = 2\n",
    "topic = \" we'll discuss on list, tuples ,sets and if statements\"\n",
    "print('Today this lecture number %s %s'%(No2,topic))\n",
    "print(type(No2))\n",
    "print(type(topic))"
   ]
  },
  {
   "cell_type": "markdown",
   "metadata": {
    "deletable": false,
    "editable": false
   },
   "source": [
    "## Padding and Precision of Floating Point Numbers\n",
    "\n",
    "Floating point numbers use the format <code>%5.2f</code>. Here, <code>5</code> would be the minimum number of characters the string should contain; these may be padded with whitespace if the entire number does not have this many digits. Next to this, <code>.2f</code> stands for how many numbers to show past the decimal point.\n",
    "\n",
    "### question 9.4\n",
    "Run the next code cell and see if you understand the meaning of the operator <code>%5.2f</code>.\n"
   ]
  },
  {
   "cell_type": "code",
   "execution_count": null,
   "metadata": {
    "deletable": false,
    "editable": false
   },
   "outputs": [],
   "source": [
    "print('this is a great number -->%8.2f' %(1.718))"
   ]
  },
  {
   "cell_type": "code",
   "execution_count": null,
   "metadata": {
    "deletable": false,
    "editable": false
   },
   "outputs": [],
   "source": [
    "print('this is a great number -->%.0f' %(2.718))"
   ]
  },
  {
   "cell_type": "code",
   "execution_count": null,
   "metadata": {
    "deletable": false,
    "editable": false
   },
   "outputs": [],
   "source": [
    "print('this is a great number -->%1.5f' %(2.718))"
   ]
  },
  {
   "cell_type": "code",
   "execution_count": null,
   "metadata": {
    "deletable": false,
    "editable": false
   },
   "outputs": [],
   "source": [
    "print('this is a great number -->%10.2f' %(2.718))\n",
    "print('this is a great number -->%10.2f' %(2345.718))"
   ]
  },
  {
   "cell_type": "code",
   "execution_count": null,
   "metadata": {
    "deletable": false,
    "editable": false
   },
   "outputs": [],
   "source": [
    "print('this is a great number -->%25.2f' %(2.718))"
   ]
  },
  {
   "cell_type": "markdown",
   "metadata": {
    "deletable": false,
    "editable": false
   },
   "source": [
    "# Lists \n",
    "Earlier when discussing strings we introduced the concept of a *sequence* in Python. Lists can be thought of the most general version of a *sequence* in Python. Unlike strings, they are mutable, meaning the elements inside a list can be changed!\n",
    "\n",
    "In this section we will learn about:\n",
    "    \n",
    "    1) Creating lists\n",
    "    2) Indexing and Slicing Lists\n",
    "    3) Basic List Methods\n",
    "    4) Nesting Lists\n",
    "\n",
    "Lists are constructed with brackets [] and commas separating every element in the list."
   ]
  },
  {
   "cell_type": "markdown",
   "metadata": {
    "deletable": false,
    "editable": false
   },
   "source": [
    "### question 10.1\n",
    "run the next code cell and print the values:\n",
    "\n",
    "    1) sentence\n",
    "    2) mylist \n",
    "    3) the type of mylist"
   ]
  },
  {
   "cell_type": "code",
   "execution_count": null,
   "metadata": {
    "deletable": false,
    "editable": false
   },
   "outputs": [],
   "source": [
    "sentence = 'Hi everybode and wellcome for today lecture'\n",
    "mylist = sentence.split(' ')"
   ]
  },
  {
   "cell_type": "code",
   "execution_count": null,
   "metadata": {
    "deletable": false
   },
   "outputs": [],
   "source": [
    "#question 10.1 Answer\n",
    "print(sentence)\n",
    "print(mylist)\n",
    "print(type(mylist))"
   ]
  },
  {
   "cell_type": "markdown",
   "metadata": {
    "deletable": false,
    "editable": false
   },
   "source": [
    "### question 10.2\n",
    "The next code cell create a list combine from several data types, run it.\n",
    "\n",
    "Change the last value of <code>mylist</code> to a string value and then print <code>mylist</code>"
   ]
  },
  {
   "cell_type": "code",
   "execution_count": null,
   "metadata": {
    "deletable": false,
    "editable": false
   },
   "outputs": [],
   "source": [
    "mylist = [25, 'Hello', 22.5]\n",
    "print(mylist)"
   ]
  },
  {
   "cell_type": "code",
   "execution_count": null,
   "metadata": {
    "deletable": false
   },
   "outputs": [],
   "source": [
    "#question 10.2 Answer\n",
    "mylist[-1]=str(mylist[-1])\n",
    "print(mylist)"
   ]
  },
  {
   "cell_type": "markdown",
   "metadata": {
    "deletable": false,
    "editable": false
   },
   "source": [
    "## .pop()\n",
    "lets learn about a <code>.pop(location)</code> method - this is for \"pop off\" values from a list."
   ]
  },
  {
   "cell_type": "code",
   "execution_count": null,
   "metadata": {
    "deletable": false,
    "editable": false
   },
   "outputs": [],
   "source": [
    "#example for .pop\n",
    "sentence = 'hi everybody and see if you can understand the meaning of .pop() method'\n",
    "my_newlist = sentence.split(' ')\n",
    "my_newlist.pop(0)\n",
    "print(my_newlist)"
   ]
  },
  {
   "cell_type": "markdown",
   "metadata": {
    "deletable": false,
    "editable": false
   },
   "source": [
    "### question 11\n",
    "create the next list and use <code>.pop()</code> to eleminate the number 30 in this list. \n",
    "\n",
    "<code>mylist = [10,20,30,40,50,60]</code>\n",
    "\n",
    "after using <code>.pop</code> print the list. \n"
   ]
  },
  {
   "cell_type": "code",
   "execution_count": null,
   "metadata": {
    "deletable": false
   },
   "outputs": [],
   "source": [
    "#question 11 Answer\n",
    "mylist = [10,20,30,40,50,60]\n",
    "mylist.pop(mylist.index(30))\n",
    "\n",
    "print(mylist)"
   ]
  },
  {
   "cell_type": "markdown",
   "metadata": {
    "deletable": false,
    "editable": false
   },
   "source": [
    "### question 12\n",
    "run the next cell and fix all the errors in it."
   ]
  },
  {
   "cell_type": "code",
   "execution_count": null,
   "metadata": {
    "deletable": false,
    "editable": false
   },
   "outputs": [],
   "source": [
    "# the code need to print the last value of the my_newlist\n",
    "sentence = 'Lecture 1 Lecture 2 Lecture 3 Lecture 4'\n",
    "my_newlist = sntence.split(' ')\n",
    "location = len(my_newlist)\n",
    "lastvalue = my_newlist.pop(location)\n",
    "pritn(lastvalue)"
   ]
  },
  {
   "cell_type": "code",
   "execution_count": null,
   "metadata": {},
   "outputs": [],
   "source": [
    "#question 12 Answer\n",
    "sentence = 'Lecture 1 Lecture 2 Lecture 3 Lecture 4'\n",
    "my_newlist = sentence.split(' ')#wrong variable syntax \"sntence\" need to be \"sentence\"\n",
    "location = len(my_newlist)#We can remove this and use -1 for the last value\n",
    "lastvalue = my_newlist.pop(location-1)#fix array size length\n",
    "print(lastvalue)#wrong syntax \"pritn\" need to be \"print\""
   ]
  },
  {
   "cell_type": "markdown",
   "metadata": {
    "deletable": false,
    "editable": false
   },
   "source": [
    "\n",
    "### question 13\n",
    "insert the next code <code>new_list = ['P','y','t','h','o','n']</code> to thecell belwo and use the next methods on new_list\n",
    ":\n",
    "\n",
    "    1) .reverse()\n",
    "    2) .sort()\n",
    "print the objects you get and explain in the markdown cell about the methods."
   ]
  },
  {
   "cell_type": "code",
   "execution_count": 25,
   "metadata": {
    "deletable": false
   },
   "outputs": [],
   "source": [
    "new_list = ['P','y','t','h','o','n']"
   ]
  },
  {
   "cell_type": "markdown",
   "metadata": {
    "deletable": false
   },
   "source": [
    "### Write your explain here"
   ]
  },
  {
   "cell_type": "code",
   "execution_count": 26,
   "metadata": {},
   "outputs": [
    {
     "name": "stdout",
     "output_type": "stream",
     "text": [
      "['n', 'o', 'h', 't', 'y', 'P']\n"
     ]
    }
   ],
   "source": [
    "#question 13.1 Answer\n",
    "new_list.reverse()\n",
    "print(new_list)\n",
    "#reversing sentence"
   ]
  },
  {
   "cell_type": "code",
   "execution_count": 27,
   "metadata": {},
   "outputs": [
    {
     "name": "stdout",
     "output_type": "stream",
     "text": [
      "['P', 'h', 'n', 'o', 't', 'y']\n"
     ]
    }
   ],
   "source": [
    "#question 13.2 Answer\n",
    "new_list.sort()\n",
    "print(new_list)\n",
    "#sort sentence by ASCII value"
   ]
  },
  {
   "cell_type": "markdown",
   "metadata": {
    "deletable": false,
    "editable": false
   },
   "source": [
    "# Set and Booleans\n",
    "\n",
    "There are two other object types in Python that we should quickly cover: Sets and Booleans. \n",
    "\n",
    "## Sets\n",
    "\n",
    "Sets are an unordered collection of *unique* elements. We can construct them by using the set() function . \n",
    "Let's go ahead and make a set and try to understand what unique means when we say the a set is a unique data set.\n",
    "#### Run the next examples"
   ]
  },
  {
   "cell_type": "code",
   "execution_count": 28,
   "metadata": {
    "deletable": false,
    "editable": false
   },
   "outputs": [
    {
     "name": "stdout",
     "output_type": "stream",
     "text": [
      "Lets print the set we create and see it's type: \n",
      "set() <class 'set'>\n"
     ]
    }
   ],
   "source": [
    "# Example 1\n",
    "my_newset = set()\n",
    "print(\"Lets print the set we create and see it's type: \")\n",
    "print(my_newset,type(my_newset))\n",
    "my_newset.add(1)"
   ]
  },
  {
   "cell_type": "code",
   "execution_count": 29,
   "metadata": {
    "deletable": false,
    "editable": false
   },
   "outputs": [
    {
     "data": {
      "text/plain": [
       "{1}"
      ]
     },
     "execution_count": 29,
     "metadata": {},
     "output_type": "execute_result"
    }
   ],
   "source": [
    "# Example 2\n",
    "my_newset"
   ]
  },
  {
   "cell_type": "code",
   "execution_count": 30,
   "metadata": {
    "deletable": false,
    "editable": false
   },
   "outputs": [
    {
     "data": {
      "text/plain": [
       "{1, 2}"
      ]
     },
     "execution_count": 30,
     "metadata": {},
     "output_type": "execute_result"
    }
   ],
   "source": [
    "# Example 3\n",
    "my_newset.add(2)\n",
    "my_newset.add(1)\n",
    "my_newset.add(1)\n",
    "my_newset.add(1)\n",
    "my_newset"
   ]
  },
  {
   "cell_type": "markdown",
   "metadata": {
    "deletable": false,
    "editable": false
   },
   "source": [
    "### question 14\n",
    "\n",
    "explain in the next markdown cell the output of the previous cell (Example 3)"
   ]
  },
  {
   "cell_type": "markdown",
   "metadata": {
    "deletable": false
   },
   "source": [
    "### Write your explain here"
   ]
  },
  {
   "cell_type": "markdown",
   "metadata": {
    "deletable": false,
    "editable": false
   },
   "source": [
    "run the next code and see for yourself that you fully understood the unique data set --> set\n",
    "\n",
    "<code>my_set = set([1,1,1,1,1,1,2,2,2,2,2,3,3,3,3,3,3])</code>"
   ]
  },
  {
   "cell_type": "code",
   "execution_count": 31,
   "metadata": {
    "deletable": false,
    "editable": false
   },
   "outputs": [
    {
     "name": "stdout",
     "output_type": "stream",
     "text": [
      "{1, 2, 3}\n"
     ]
    }
   ],
   "source": [
    "my_set = set([1,1,1,1,1,1,2,2,2,2,2,3,3,3,3,3,3])\n",
    "print(my_set)"
   ]
  },
  {
   "cell_type": "markdown",
   "metadata": {},
   "source": [
    "## Answer: set function give us unique number one time and pop all the same numbers after"
   ]
  },
  {
   "cell_type": "markdown",
   "metadata": {
    "deletable": false,
    "editable": false
   },
   "source": [
    "### question 15\n",
    "insert the list - <code>[[1,2,3],[4,[5,6,7]],[[8,9,10],11,12]]</code> to new variable named <code>list_number</code>: \n",
    "\n",
    "print the sublist <code>[5,6,7]</code> by going to the location of the list_number: "
   ]
  },
  {
   "cell_type": "code",
   "execution_count": 32,
   "metadata": {
    "deletable": false
   },
   "outputs": [
    {
     "name": "stdout",
     "output_type": "stream",
     "text": [
      "[5, 6, 7]\n"
     ]
    }
   ],
   "source": [
    "#question 15 Answer\n",
    "list_number=[[1,2,3],[4,[5,6,7]],[[8,9,10],11,12]]\n",
    "print(list_number[1][1])"
   ]
  },
  {
   "cell_type": "markdown",
   "metadata": {
    "deletable": false,
    "editable": false
   },
   "source": [
    "# Practice using functions\n",
    "\n",
    "In the following questions, replace the word 'pass' with your code in order for the function to perform its purpose."
   ]
  },
  {
   "cell_type": "markdown",
   "metadata": {
    "deletable": false,
    "editable": false
   },
   "source": [
    "### question 16\n",
    "Define a function <code>MaxOfThree()</code> that takes three numbers as arguments and returns the largest of them (Use <code>if</code>, <code>elif</code> and <code>else</code>). For example, <code>MaxOfThree(1,  2,  3)</code> should return 3."
   ]
  },
  {
   "cell_type": "code",
   "execution_count": 33,
   "metadata": {
    "deletable": false
   },
   "outputs": [],
   "source": [
    "#question 16 Answer\n",
    "def MaxOfThree(n1, n2, n3):\n",
    "    if n1>n2 and n1>n3:\n",
    "        return n1\n",
    "    elif n2>n3:\n",
    "        return n2\n",
    "    else:\n",
    "        return n3"
   ]
  },
  {
   "cell_type": "code",
   "execution_count": 34,
   "metadata": {
    "deletable": false,
    "editable": false
   },
   "outputs": [
    {
     "name": "stdout",
     "output_type": "stream",
     "text": [
      "3\n"
     ]
    }
   ],
   "source": [
    "print(MaxOfThree(1,  2,  3))"
   ]
  },
  {
   "cell_type": "markdown",
   "metadata": {
    "deletable": false,
    "editable": false
   },
   "source": [
    "### question 17\n",
    "Define a function <code>MySum()</code> and a function <code>MyMultiply()</code> that sums and multiplies (respectively) all the numbers in a list of numbers (Use <code>for</code>). For example, s <code>MySum([1, 2, 3, 4])</code> should return 10, and <code>MyMultiply([1, 2, 3, 4])</code> should return 24."
   ]
  },
  {
   "cell_type": "code",
   "execution_count": 35,
   "metadata": {
    "deletable": false
   },
   "outputs": [],
   "source": [
    "#question 17.1 Answer\n",
    "def MySum(inputList):\n",
    "    count=0\n",
    "    for i in range(len(inputList)):\n",
    "        count=count+inputList[i]\n",
    "    print(count)"
   ]
  },
  {
   "cell_type": "code",
   "execution_count": 36,
   "metadata": {
    "deletable": false,
    "editable": false
   },
   "outputs": [
    {
     "name": "stdout",
     "output_type": "stream",
     "text": [
      "10\n",
      "None\n"
     ]
    }
   ],
   "source": [
    "print(MySum([1, 2, 3, 4]))"
   ]
  },
  {
   "cell_type": "code",
   "execution_count": 37,
   "metadata": {
    "deletable": false
   },
   "outputs": [],
   "source": [
    "#question 17.2 Answer\n",
    "def MyMultiply(inputList):\n",
    "    count=1\n",
    "    for i in range(len(inputList)):\n",
    "        count=count*inputList[i]\n",
    "    print(count)"
   ]
  },
  {
   "cell_type": "code",
   "execution_count": 38,
   "metadata": {
    "deletable": false,
    "editable": false
   },
   "outputs": [
    {
     "name": "stdout",
     "output_type": "stream",
     "text": [
      "24\n",
      "None\n"
     ]
    }
   ],
   "source": [
    "print(MyMultiply([1, 2, 3, 4]))"
   ]
  },
  {
   "cell_type": "markdown",
   "metadata": {
    "deletable": false,
    "editable": false
   },
   "source": [
    "### question 18\n",
    "Define a function <code>MyStars()</code> that takes a list of integers and prints a string of stars which has the length of a value of an integer to the screen. For example, <code>MyStars([3, 9, 7])</code> should print the following:\n",
    "\n",
    "\\*\\*\\*\n",
    "\n",
    "\\*\\*\\*\\*\\*\\*\\*\\*\\*\n",
    "\n",
    "\\*\\*\\*\\*\\*\\*\\*"
   ]
  },
  {
   "cell_type": "code",
   "execution_count": 39,
   "metadata": {
    "deletable": false
   },
   "outputs": [],
   "source": [
    "#question 18 Answer\n",
    "def MyStars(inputList):\n",
    "    for i in range(len(inputList)):\n",
    "        print('*'*inputList[i])"
   ]
  },
  {
   "cell_type": "code",
   "execution_count": 40,
   "metadata": {
    "deletable": false,
    "editable": false
   },
   "outputs": [
    {
     "name": "stdout",
     "output_type": "stream",
     "text": [
      "***\n",
      "*********\n",
      "*******\n"
     ]
    }
   ],
   "source": [
    "MyStars([3, 9, 7])"
   ]
  },
  {
   "cell_type": "markdown",
   "metadata": {
    "deletable": false,
    "editable": false
   },
   "source": [
    "# image in Python\n",
    "For import imgaes we will use <code>imread()</code> function from OpneCV laibery (<code>cv2</code>).\n",
    "\n",
    "For disply imgaes we will use <code>imshow()</code> function from <code>matplotlib.pyplot</code> laibery.\n",
    "    \n",
    "### question 19\n",
    "In the next code cell import OpneCV laibery and <code>matplotlib.pyplot</code> laibery.\n",
    "\n",
    "In the code cell after import and disply \"img1.jpeg\" ."
   ]
  },
  {
   "cell_type": "code",
   "execution_count": 41,
   "metadata": {
    "deletable": false
   },
   "outputs": [],
   "source": [
    "#question 19 Answer\n",
    "from cv2 import imread\n",
    "import matplotlib.pyplot"
   ]
  },
  {
   "cell_type": "code",
   "execution_count": 42,
   "metadata": {
    "deletable": false
   },
   "outputs": [
    {
     "data": {
      "text/plain": [
       "<matplotlib.image.AxesImage at 0x21a6c7f7d00>"
      ]
     },
     "execution_count": 42,
     "metadata": {},
     "output_type": "execute_result"
    },
    {
     "data": {
      "image/png": "[encoded data removed]",
      "text/plain": [
       "<Figure size 432x288 with 1 Axes>"
      ]
     },
     "metadata": {
      "needs_background": "light"
     },
     "output_type": "display_data"
    }
   ],
   "source": [
    "x=imread(\"img1.jpeg\")\n",
    "matplotlib.pyplot.imshow(x)"
   ]
  }
 ],
 "metadata": {
  "celltoolbar": "Raw Cell Format",
  "kernelspec": {
   "display_name": "Python 3",
   "language": "python",
   "name": "python3"
  },
  "language_info": {
   "codemirror_mode": {
    "name": "ipython",
    "version": 3
   },
   "file_extension": ".py",
   "mimetype": "text/x-python",
   "name": "python",
   "nbconvert_exporter": "python",
   "pygments_lexer": "ipython3",
   "version": "3.8.8"
  }
 },
 "nbformat": 4,
 "nbformat_minor": 2
}
